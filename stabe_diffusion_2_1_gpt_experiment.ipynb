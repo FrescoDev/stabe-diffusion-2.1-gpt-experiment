{
  "nbformat": 4,
  "nbformat_minor": 0,
  "metadata": {
    "colab": {
      "private_outputs": true,
      "provenance": [],
      "machine_shape": "hm",
      "include_colab_link": true
    },
    "kernelspec": {
      "name": "python3",
      "display_name": "Python 3"
    },
    "language_info": {
      "name": "python"
    },
    "accelerator": "GPU",
    "gpuClass": "standard"
  },
  "cells": [
    {
      "cell_type": "markdown",
      "metadata": {
        "id": "view-in-github",
        "colab_type": "text"
      },
      "source": [
        "<a href=\"https://colab.research.google.com/github/FrescoDev/stabe-diffusion-2.1-gpt-experiment/blob/main/stabe_diffusion_2_1_gpt_experiment.ipynb\" target=\"_parent\"><img src=\"https://colab.research.google.com/assets/colab-badge.svg\" alt=\"Open In Colab\"/></a>"
      ]
    },
    {
      "cell_type": "markdown",
      "source": [
        "# **Stable Diffusion & GPT-3 to Generate animations on Replicate**\n",
        "\n",
        "> Indented block\n",
        "\n",
        "\n",
        "\n",
        "Simple Colab setup to use lyrics (or any general input) as a base prompt to generate prompt variations to eventually feed into SD v2.1 and generate latent space trasversal gifs/mp4s using replicate's API. "
      ],
      "metadata": {
        "id": "8Dj3JghLa6Ji"
      }
    },
    {
      "cell_type": "code",
      "source": [
        "#@title Install dependencies\n",
        "!pip install openai\n",
        "!pip install -U git+https://github.com/huggingface/diffusers.git\n",
        "!pip install transformers\n",
        "!pip install accelerate\n",
        "!pip install replicate"
      ],
      "metadata": {
        "cellView": "form",
        "id": "ULp_9a8I9h3K"
      },
      "execution_count": null,
      "outputs": []
    },
    {
      "cell_type": "code",
      "source": [
        "#@title Enter your API Keys\n",
        "#@markdown \n",
        "OPEN_AI_KEY = \"\" #@param {type:\"string\"}\n",
        "REPLICATE_API_KEY = \"\" #@param {type:\"string\"}"
      ],
      "metadata": {
        "cellView": "form",
        "id": "ZTxp0eynE_Fm"
      },
      "execution_count": null,
      "outputs": []
    },
    {
      "cell_type": "code",
      "source": [
        "#@title Helper functions\n",
        "from PIL import Image\n",
        "\n",
        "# Define image grid to display multiple generations nicely\n",
        "def image_grid(imgs, rows, cols):\n",
        "    assert len(imgs) == rows*cols\n",
        "\n",
        "    w, h = imgs[0].size\n",
        "    grid = Image.new('RGB', size=(cols*w, rows*h))\n",
        "    grid_w, grid_h = grid.size\n",
        "    \n",
        "    for i, img in enumerate(imgs):\n",
        "        grid.paste(img, box=(i%cols*w, i//cols*h))\n",
        "    return grid"
      ],
      "metadata": {
        "id": "hdHax_J4MbYI"
      },
      "execution_count": null,
      "outputs": []
    },
    {
      "cell_type": "code",
      "source": [
        "#@title Download SD v2.1\n",
        "from diffusers import StableDiffusionPipeline\n",
        "\n",
        "pipe = StableDiffusionPipeline.from_pretrained(\"stabilityai/stable-diffusion-2-1-base\").to(\"cuda\")"
      ],
      "metadata": {
        "id": "lTsK6gaSK_eR",
        "cellView": "form"
      },
      "execution_count": null,
      "outputs": []
    },
    {
      "cell_type": "code",
      "source": [
        "#@title Theme / Inspiration / Lyrical segment\n",
        "#@markdown\n",
        "# Example below is a line from Tupac's \"Me against the World\"\n",
        "lyrics = \"The message I stress: to make it stop, study your lessons Don't settle for less, even the genius asks his questions\" #@param {type:\"string\"}\n"
      ],
      "metadata": {
        "cellView": "form",
        "id": "kU8HjxFF65Dy"
      },
      "execution_count": null,
      "outputs": []
    },
    {
      "cell_type": "code",
      "source": [
        "#@title Generate prompts using GPT-3 (davinci 3)\n",
        "import openai\n",
        "openai.api_key = OPEN_AI_KEY\n",
        "\n",
        "# Quite a verbose prompt that produced nice HD shoe images, probably could be tweaked for different purposes. \n",
        "response = openai.Completion.create(\n",
        "  model=\"text-davinci-003\",\n",
        "  prompt=f'Produce variations on this comma separated list of words which describes a beautiful artisitc image. These words and word combinations will map to points in latent space and convey some semantic meaning which will then be used to generate images using novel diffusion algorithms. Use this information to explore different prompt variations.\\n\\nHere are some good prompt example: \\n\\nhi-res, professional HD 8k, side profile wide shot of a minimal Basquiat themed futuristic art piece on a wide plain background, centered, ultrarealistic, cinematic lighting, fashion, stunning design, breathtakingly detailed photography|hi-res, professional HD 8k, side profile panning shot of a detailed Basquiat abstract art piece on a grey mottled background, artfully framed, beautifully lit, fashionable, bold design, breathtakingly vivid photography|HD super clear 4k video, front-on zooming shot of a modern Basquiat painting on a bright white background, centred, surreal lighting, edgy, visually captivating design, detailed photography |afro-futurist styled hi-res wide angle shot of a graffiti-style Basquiat mural on a desolate landscape background, off-centre, delicate lighting, stylish, colourful design, artfully composed photography|abstract art canvas, front-on still shot of a vibrant abstract Basquiat artwork on a ghostly blurred background, balanced, romantic lighting, creative, intricate design, captivatingly crafted photography|HQ digital art, side profile panorama of a cuboid Basquiat painting on a textured beige background, off-centre, low-key lighting, funky, stunning design, artistically composed photography\\n\\nNow, come up with 3 interesting prompts that are relevant to the following lyrics. Try not to make these generic, be creative and try and think outside of the box. Do not overuse common tropes like love but capture the nuance and cultural context of the artist bearing their emotions on the track. Try exploring a diverse set of themes, focusing on the other words in the lyrics.\\n\\nLyrics:\\n\\n{lyrics}\\n\\n|Lo-fi iphone footage, eerie side on shot of an anonymous activist making a silent stand before a dilapidated, old city skyline at night, creatively highlighted and framed, questioning yet powerful design, thought-provoking, in the style of basquiat and warhol|',\n",
        "  temperature=0.96,\n",
        "  max_tokens=777,\n",
        "  top_p=1,\n",
        "  frequency_penalty=0,\n",
        "  presence_penalty=0\n",
        ")\n",
        "\n",
        "raw_gen = response.choices[0].text\n",
        "prompts = raw_gen.split('|')\n",
        "\n",
        "print(prompts)\n",
        "print(len(prompts))"
      ],
      "metadata": {
        "id": "-3jzuSBWEd3u",
        "cellView": "form"
      },
      "execution_count": null,
      "outputs": []
    },
    {
      "cell_type": "code",
      "source": [
        "#@title Edit negative prompts (optional)\n",
        "#@markdown\n",
        "neg_prompts = \"words, writing, blurry face, ugly, bad, plain, boot, fake, CGI, cropped, blurry, rough, low quality, low res, grainy\" #@param {type:\"string\"}"
      ],
      "metadata": {
        "id": "5KlMS8f2LJ4T",
        "cellView": "form"
      },
      "execution_count": null,
      "outputs": []
    },
    {
      "cell_type": "code",
      "source": [
        "#@title Generate images from prompts using SD v2.1\n",
        "# Plenty of things here can be adjusted, i.e. to keep memory down we're only generating 2 prompts.\n",
        "neg_prompt_list = [neg_prompts] * len(prompts)\n",
        "images = pipe(prompts, height=560, width=560, negative_prompt=neg_prompt_list).images\n",
        "grid = image_grid(images, rows=1, cols=len(prompts))\n",
        "grid"
      ],
      "metadata": {
        "id": "AkMUTl9DL1kF",
        "cellView": "form"
      },
      "execution_count": null,
      "outputs": []
    },
    {
      "cell_type": "code",
      "source": [
        "#@title Save prompts to file (if they look cool)\n",
        "# Open the file in write mode\n",
        "with open('prompts.txt', 'a') as f:\n",
        "  for prompt in prompts:\n",
        "    # Check if the element is a string\n",
        "    if isinstance(prompt, str):\n",
        "      # Prompt the user for input\n",
        "      user_input = input('Add \"{}\" to the file? (y/n) '.format(prompt))\n",
        "      if user_input == 'y':\n",
        "        # Write the string to the file\n",
        "        f.write(prompt + '\\n')\n"
      ],
      "metadata": {
        "id": "EUaSUdHZMg-x",
        "cellView": "form"
      },
      "execution_count": null,
      "outputs": []
    },
    {
      "cell_type": "code",
      "source": [
        "#@title Use Replicte to generate animations from prompts\n",
        "import os\n",
        "import replicate\n",
        "\n",
        "\n",
        "os.environ['REPLICATE_API_TOKEN'] = REPLICATE_API_KEY\n",
        "\n",
        "model = replicate.models.get(\"andreasjansson/stable-diffusion-animation\")\n",
        "version = model.versions.get(\"ca1f5e306e5721e19c473e0d094e6603f0456fe759c10715fcd6c1b79242d4a5\")\n",
        "output = version.predict(gif_frames_per_second=30, num_animation_frames=25, num_inference_steps=50, prompt_strength=0.9, num_interpolation_steps=5, prompt_start=prompts[0], prompt_end=prompts[1])\n"
      ],
      "metadata": {
        "id": "Vg9PHlpRws6M"
      },
      "execution_count": null,
      "outputs": []
    }
  ]
}